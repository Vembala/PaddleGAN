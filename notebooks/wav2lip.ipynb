{
 "cells": [
  {
   "cell_type": "code",
   "execution_count": null,
   "metadata": {},
   "outputs": [],
   "source": [
    "!git clone https://github.com/Vembala/PaddleGAN\n",
    "%cd PaddleGAN\n",
    "!pip install -v -e .\n",
    "!pip install -r requirements.txt\n",
    "!pip install paddlepaddle==2.3.2\n",
    "%cd applications\n",
    "!wget https://paddlegan.bj.bcebos.com/models/wav2lip_hq.pdparams\n",
    "!python tools/wav2lip.py \\\n",
    "    --face ../docs/imgs/mona7s.mp4 \\\n",
    "    --audio ../docs/imgs/guangquan.m4a \\\n",
    "    --outfile pp_guangquan_mona7s.mp4 \\\n",
    "    --checkpoint_path wav2lip_hq.pdparams \\\n",
    "    --face_enhancement"
   ]
  }
 ],
 "metadata": {
  "language_info": {
   "name": "python"
  },
  "orig_nbformat": 4
 },
 "nbformat": 4,
 "nbformat_minor": 2
}
